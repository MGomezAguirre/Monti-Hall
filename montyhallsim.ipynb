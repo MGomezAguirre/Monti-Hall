{
  "nbformat": 4,
  "nbformat_minor": 0,
  "metadata": {
    "colab": {
      "name": "Untitled8.ipynb",
      "provenance": [],
      "authorship_tag": "ABX9TyNRWJUvXyGPX6d0WFp4c73u",
      "include_colab_link": true
    },
    "kernelspec": {
      "name": "python3",
      "display_name": "Python 3"
    },
    "language_info": {
      "name": "python"
    }
  },
  "cells": [
    {
      "cell_type": "markdown",
      "metadata": {
        "id": "view-in-github",
        "colab_type": "text"
      },
      "source": [
        "<a href=\"https://colab.research.google.com/github/MGomezAguirre/Monti-Hall/blob/master/montyhallsim.ipynb\" target=\"_parent\"><img src=\"https://colab.research.google.com/assets/colab-badge.svg\" alt=\"Open In Colab\"/></a>"
      ]
    },
    {
      "cell_type": "code",
      "source": [
        "import numpy as np"
      ],
      "metadata": {
        "id": "6qFyRRAARh8F"
      },
      "execution_count": 5,
      "outputs": []
    },
    {
      "cell_type": "code",
      "source": [
        ""
      ],
      "metadata": {
        "id": "MM8ay-aiVxbg"
      },
      "execution_count": 9,
      "outputs": []
    },
    {
      "cell_type": "code",
      "execution_count": 76,
      "metadata": {
        "id": "UI4K-u3eQXde"
      },
      "outputs": [],
      "source": [
        "sim=1000"
      ]
    },
    {
      "cell_type": "code",
      "source": [
        "# Me quedo\n",
        "suma=0\n",
        "for i in range(sim):\n",
        "  ubicacionauto = np.random.randint(3)\n",
        "  eleccion=np.random.randint(3)\n",
        "  if ubicacionauto==eleccion:\n",
        "    suma+=1\n",
        "  else:\n",
        "    suma+=0\n",
        "probabilidad_epirica= suma/sim\n",
        "print(probabilidad_epirica)"
      ],
      "metadata": {
        "colab": {
          "base_uri": "https://localhost:8080/"
        },
        "id": "7aaJE3tKQfdh",
        "outputId": "f9374846-e314-4c8d-d42c-c435cba76d83"
      },
      "execution_count": 77,
      "outputs": [
        {
          "output_type": "stream",
          "name": "stdout",
          "text": [
            "0.342\n"
          ]
        }
      ]
    },
    {
      "cell_type": "code",
      "source": [
        "# Cambio\n",
        "\n",
        "suma2=0\n",
        "for i in range(sim):\n",
        "  ubicacionauto = np.random.randint(3)\n",
        "  eleccion=np.random.randint(3)\n",
        "  posicion=[1,2,3]\n",
        "  if eleccion != ubicacionauto:\n",
        "    suma2+=1\n",
        "  else:\n",
        "    suma2+=0\n",
        "probabilidad_epirica2= suma2/sim\n",
        "print(probabilidad_epirica2)\n"
      ],
      "metadata": {
        "colab": {
          "base_uri": "https://localhost:8080/"
        },
        "id": "bGyE3v3WRZgv",
        "outputId": "6a53ff51-1e51-4357-bfd9-87232bbd7ec8"
      },
      "execution_count": 78,
      "outputs": [
        {
          "output_type": "stream",
          "name": "stdout",
          "text": [
            "0.643\n"
          ]
        }
      ]
    },
    {
      "cell_type": "code",
      "source": [
        "# me quedo o cambio en forma aleatoria\n",
        "sim=1000\n",
        "\n",
        "suma3=0\n",
        "for i in range(sim):\n",
        "  quehago = np.random.uniform()\n",
        "\n",
        "  if quehago > 0.5:\n",
        "  # Me quedo\n",
        "    ubicacionauto = np.random.randint(3)\n",
        "    eleccion=np.random.randint(3)\n",
        "    if ubicacionauto==eleccion:\n",
        "      suma3+=1\n",
        "    else:\n",
        "      suma3+=0\n",
        "  else:\n",
        "    # Cambio\n",
        "    ubicacionauto = np.random.randint(3)\n",
        "    eleccion=np.random.randint(3)\n",
        "    posicion=[1,2,3]\n",
        "    if eleccion != ubicacionauto:\n",
        "      suma3+=1\n",
        "    else:\n",
        "      suma3+=0\n",
        "\n",
        "probabilidad_epirica3= suma3/sim\n",
        "print(probabilidad_epirica3)\n"
      ],
      "metadata": {
        "colab": {
          "base_uri": "https://localhost:8080/"
        },
        "id": "qFP-Ef5iUbDg",
        "outputId": "8a8573e2-e8cc-4080-d8fe-eb70a75fce81"
      },
      "execution_count": 79,
      "outputs": [
        {
          "output_type": "stream",
          "name": "stdout",
          "text": [
            "0.514\n"
          ]
        }
      ]
    },
    {
      "cell_type": "code",
      "source": [
        ""
      ],
      "metadata": {
        "id": "F7Q23nKEdNnA"
      },
      "execution_count": null,
      "outputs": []
    }
  ]
}